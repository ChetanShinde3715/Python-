{
 "cells": [
  {
   "cell_type": "markdown",
   "id": "b6953bfa-68ba-40dc-91be-0ff89a775c6b",
   "metadata": {},
   "source": [
    "** Lambda function **\n",
    "\n",
    "- It is a kind of a single line fuction \n",
    "- We already seen list comprehension which means single line\n",
    "- lambda function give a flexibility to stop writing many lines\n",
    "- on iterative exection it will save the timing \n",
    " "
   ]
  },
  {
   "cell_type": "code",
   "execution_count": 1,
   "id": "22dede3b-6363-40f9-a43b-9cc8f0196d09",
   "metadata": {},
   "outputs": [
    {
     "data": {
      "text/plain": [
       "30"
      ]
     },
     "execution_count": 1,
     "metadata": {},
     "output_type": "execute_result"
    }
   ],
   "source": [
    "def summ(num):\n",
    "    return(num+10)\n",
    "\n",
    "summ(20)\n"
   ]
  },
  {
   "cell_type": "markdown",
   "id": "6bccc7c1-55f7-41a6-8fa8-a54a6cfb416b",
   "metadata": {},
   "source": [
    "- Syntax of lambda function"
   ]
  },
  {
   "cell_type": "markdown",
   "id": "200c3ca2-da86-4f83-bad2-c6e94c5402cb",
   "metadata": {},
   "source": [
    "# patten-1 : \n",
    "\n",
    " # -  function name \n",
    " # - variable name \n",
    " # -  return output\n",
    "\n",
    "# <function_name> = lambda<variable_name>: <return_output>"
   ]
  },
  {
   "cell_type": "code",
   "execution_count": 7,
   "id": "48885add-ac89-4a06-88d2-ef1c542b934c",
   "metadata": {},
   "outputs": [
    {
     "data": {
      "text/plain": [
       "40"
      ]
     },
     "execution_count": 7,
     "metadata": {},
     "output_type": "execute_result"
    }
   ],
   "source": [
    "summ = lambda num: num+10\n",
    "summ(30)"
   ]
  },
  {
   "cell_type": "code",
   "execution_count": 9,
   "id": "5aecc35f-7809-413b-ad5f-7a76c2aa64ba",
   "metadata": {},
   "outputs": [
    {
     "data": {
      "text/plain": [
       "1000"
      ]
     },
     "execution_count": 9,
     "metadata": {},
     "output_type": "execute_result"
    }
   ],
   "source": [
    "# def cube(x):\n",
    "#     return(x*x*x)\n",
    "\n",
    "# cube(10)\n",
    "\n",
    "cube = lambda x : (x*x*x)\n",
    "cube(10)"
   ]
  },
  {
   "cell_type": "code",
   "execution_count": null,
   "id": "e8e4b51f-6283-448a-8da2-6ba4aae10680",
   "metadata": {},
   "outputs": [],
   "source": [
    "# patten-2\n",
    "\n",
    "# function_names> = lambda <arg1>,<arg2> : <output>\n"
   ]
  },
  {
   "cell_type": "code",
   "execution_count": 11,
   "id": "84feeb69-0c7b-43e4-b41c-55a3506ca61b",
   "metadata": {},
   "outputs": [
    {
     "data": {
      "text/plain": [
       "30"
      ]
     },
     "execution_count": 11,
     "metadata": {},
     "output_type": "execute_result"
    }
   ],
   "source": [
    "add = lambda n1,n2 : n1+n2\n",
    "add(10,"
   ]
  },
  {
   "cell_type": "markdown",
   "id": "94bf7d0c-1739-42a2-9a9c-089496414b73",
   "metadata": {},
   "source": [
    "avg = lambda n1,n2,n3 :round((n1+n2+n3)/3)\n",
    "avg(10,20,30)\n"
   ]
  },
  {
   "cell_type": "markdown",
   "id": "ebe13ca1-c846-421f-a6b3-f10c08addafb",
   "metadata": {},
   "source": [
    "** Default argument **"
   ]
  },
  {
   "cell_type": "code",
   "execution_count": 24,
   "id": "b63038f1-e3da-43fb-8afa-9210ed776e1b",
   "metadata": {},
   "outputs": [
    {
     "data": {
      "text/plain": [
       "20.0"
      ]
     },
     "execution_count": 24,
     "metadata": {},
     "output_type": "execute_result"
    }
   ],
   "source": [
    "# pattern-3 : \n",
    "\n",
    "avg = lambda n1,n2,n3=40:(n1+n2+n3)/3\n",
    "avg(10,10)"
   ]
  },
  {
   "cell_type": "code",
   "execution_count": 28,
   "id": "aa441929-56c0-483c-925c-d7117e7670e3",
   "metadata": {},
   "outputs": [
    {
     "data": {
      "text/plain": [
       "'Hello'"
      ]
     },
     "execution_count": 28,
     "metadata": {},
     "output_type": "execute_result"
    }
   ],
   "source": [
    "# pattern-4 : \n",
    "\n",
    "def great(n1):\n",
    "    if n1>10:\n",
    "        return(\"Hello\")\n",
    "\n",
    "great(11)"
   ]
  },
  {
   "cell_type": "code",
   "execution_count": null,
   "id": "c4c80a6b-b4ab-4c1d-90c8-d248f7ec8931",
   "metadata": {},
   "outputs": [],
   "source": [
    "# In list compherhension\n",
    "\n",
    "# <if out> <for loop> <if condition>\n",
    "\n",
    "# lambda fucntion\n",
    "\n",
    "# <funtion name> = lambda <arg1>,<arg2> : <if out> <if condition> else <else out>"
   ]
  },
  {
   "cell_type": "code",
   "execution_count": 50,
   "id": "44cc00ee-82f3-4f60-b737-18ae35823e2b",
   "metadata": {},
   "outputs": [
    {
     "data": {
      "text/plain": [
       "'bye'"
      ]
     },
     "execution_count": 50,
     "metadata": {},
     "output_type": "execute_result"
    }
   ],
   "source": [
    "greet = lambda n1: 'Hello'  if n1>10 else 'bye'\n",
    "greet(9)"
   ]
  },
  {
   "cell_type": "code",
   "execution_count": 53,
   "id": "d03c8097-3160-4a0c-b8ca-d82c26c303ef",
   "metadata": {},
   "outputs": [
    {
     "data": {
      "text/plain": [
       "'1033 is largest'"
      ]
     },
     "execution_count": 53,
     "metadata": {},
     "output_type": "execute_result"
    }
   ],
   "source": [
    "# Q1) WAP to identiy the greatest number between two numbers\n",
    "\n",
    "out = lambda n1,n2: f\"{n1} is largest\" if n1>n2 else f\"{n2} is largest\"\n",
    "out(1033,320)"
   ]
  },
  {
   "cell_type": "markdown",
   "id": "166ccf7f-5953-4741-8076-c1621716b9dc",
   "metadata": {},
   "source": [
    " pattern-5 :\n",
    "\n",
    "** Using list"
   ]
  },
  {
   "cell_type": "code",
   "execution_count": null,
   "id": "d7795cfc-2562-4ff0-8f25-cadf9679d59c",
   "metadata": {},
   "outputs": [],
   "source": [
    "list1 = ['hyd','blr','chennai']\n",
    "# OUTPUT : list2=['Hyd','Blr','Chennai']\n",
    "\n",
    "list2 = []\n",
    "\n",
    "for i in list1:\n",
    "    list2.append(i.capitalize())\n",
    "\n",
    "list2"
   ]
  },
  {
   "cell_type": "code",
   "execution_count": 62,
   "id": "cd85d60c-dba3-45a9-b1a4-150a9fce02e2",
   "metadata": {},
   "outputs": [
    {
     "data": {
      "text/plain": [
       "['Hyd', 'Blr', 'Chennai']"
      ]
     },
     "execution_count": 62,
     "metadata": {},
     "output_type": "execute_result"
    }
   ],
   "source": [
    "list1 = ['hyd','blr','chennai']\n",
    "# OUTPUT : list2=['Hyd','Blr','Chennai']\n",
    "\n",
    "list2 = []\n",
    "\n",
    "for i in list1:\n",
    "    list2.append(i.capitalize())\n",
    "\n",
    "list2"
   ]
  },
  {
   "cell_type": "code",
   "execution_count": null,
   "id": "9a2f1705-9b26-47dd-96d2-96b49544c7dc",
   "metadata": {},
   "outputs": [],
   "source": [
    "# what is the variable name\n",
    "# what is the return  output\n",
    "# from where it is coming\n",
    "\n",
    "lambda <variable name> : <output>,<iterable>"
   ]
  },
  {
   "cell_type": "code",
   "execution_count": null,
   "id": "423046a2-f7b0-4645-ae44-55f6181c532d",
   "metadata": {},
   "outputs": [],
   "source": []
  },
  {
   "cell_type": "code",
   "execution_count": 64,
   "id": "d0189b87-2875-40d5-8346-7b84b53052bf",
   "metadata": {},
   "outputs": [
    {
     "data": {
      "text/plain": [
       "['hyd', 'blr', 'chennai']"
      ]
     },
     "execution_count": 64,
     "metadata": {},
     "output_type": "execute_result"
    }
   ],
   "source": [
    "list1 = ['hyd','blr','chennai']\n",
    "list2 = []\n",
    "\n",
    "lambda i : i.capitalize(),list1\n",
    "list1"
   ]
  },
  {
   "cell_type": "markdown",
   "id": "905d8dbf-6c4a-495a-ba9e-1f3fd5f47060",
   "metadata": {},
   "source": [
    "map function"
   ]
  },
  {
   "cell_type": "code",
   "execution_count": 66,
   "id": "c81013e7-0cb5-4b74-9ef7-f997490c1807",
   "metadata": {},
   "outputs": [
    {
     "data": {
      "text/plain": [
       "['Hyd', 'Blr', 'Chennai']"
      ]
     },
     "execution_count": 66,
     "metadata": {},
     "output_type": "execute_result"
    }
   ],
   "source": [
    "list(map(lambda i : i.capitalize(),list1))"
   ]
  },
  {
   "cell_type": "code",
   "execution_count": 68,
   "id": "443d94f9-e4d3-4b3e-8f15-2a7083b327f4",
   "metadata": {},
   "outputs": [],
   "source": [
    "# step-1 : create a normal lambda function\n",
    "#   for ex: lambda<arg>:output\n",
    "\n",
    "# step-2 : add the iterable\n",
    "#     lambda <arg>:<output>,<list>\n",
    "# step-3 : map the both function and list\n",
    "#      map(lambda <arg>: <output>,<list>)\n",
    "# step-4 : save the result in a list or tuple\n",
    "#     list(map(lambda<arg>: <output>,<list>))"
   ]
  },
  {
   "cell_type": "code",
   "execution_count": 86,
   "id": "af4c4072-da5a-46dc-88a5-9bfe646d0bf2",
   "metadata": {},
   "outputs": [
    {
     "data": {
      "text/plain": [
       "['hyd', 'blr', 'chennai']"
      ]
     },
     "execution_count": 86,
     "metadata": {},
     "output_type": "execute_result"
    }
   ],
   "source": [
    "list(map(lambda i : i.capitalize(),list1))\n",
    "list1"
   ]
  },
  {
   "cell_type": "markdown",
   "id": "cb069234-d9b4-4495-b161-6eba9f81a9fd",
   "metadata": {},
   "source": [
    "list(map(lambda i : i.lower(),list1))\n",
    "list1"
   ]
  },
  {
   "cell_type": "code",
   "execution_count": 77,
   "id": "525490a2-31ec-4ab8-bfbc-b4a26acedd38",
   "metadata": {},
   "outputs": [
    {
     "data": {
      "text/plain": [
       "['hyd', 'blr', 'chennai']"
      ]
     },
     "execution_count": 77,
     "metadata": {},
     "output_type": "execute_result"
    }
   ],
   "source": [
    "list(map(lambda i : i.upper(),list1))\n",
    "list1"
   ]
  },
  {
   "cell_type": "code",
   "execution_count": null,
   "id": "d29be1c7-e96d-4d78-a220-a3949cc607e5",
   "metadata": {},
   "outputs": [],
   "source": []
  },
  {
   "cell_type": "code",
   "execution_count": 80,
   "id": "2773c911-a607-44e0-b8a0-9537350bc49e",
   "metadata": {},
   "outputs": [
    {
     "data": {
      "text/plain": [
       "['hyd', 'blr', 'chennai']"
      ]
     },
     "execution_count": 80,
     "metadata": {},
     "output_type": "execute_result"
    }
   ],
   "source": [
    "list(map(lambda i : i.center(10,\"*\"),list1))\n",
    "list1"
   ]
  },
  {
   "cell_type": "code",
   "execution_count": 93,
   "id": "c584fd3b-4a1d-4360-bd3a-b7926a0e9977",
   "metadata": {},
   "outputs": [
    {
     "data": {
      "text/plain": [
       "[False, False, True, True]"
      ]
     },
     "execution_count": 93,
     "metadata": {},
     "output_type": "execute_result"
    }
   ],
   "source": [
    "\n",
    "# Whenever you are applying a condition on list write only condition with out using if\n",
    "\n",
    "list1 = ['hyd','blr','chen#nai','mumba#i']\n",
    "OUTPUT=['chen#nai','mumba#i']\n",
    "\n",
    "list(map(lambda i : '#' in i,list1))\n"
   ]
  },
  {
   "cell_type": "markdown",
   "id": "78d8ecd1-38b5-410f-ab1e-2ffe9adc5669",
   "metadata": {},
   "source": [
    "** filter method **"
   ]
  },
  {
   "cell_type": "code",
   "execution_count": 94,
   "id": "a30c0cd0-727a-425d-815d-caf77c27a869",
   "metadata": {},
   "outputs": [
    {
     "data": {
      "text/plain": [
       "['chen#nai', 'mumba#i']"
      ]
     },
     "execution_count": 94,
     "metadata": {},
     "output_type": "execute_result"
    }
   ],
   "source": [
    "\n",
    "list1 = ['hyd','blr','chen#nai','mumba#i']\n",
    "OUTPUT=['chen#nai','mumba#i']\n",
    "\n",
    "list(filter(lambda i : '#' in i,list1))\n",
    "\n",
    "# filter method will give the output in from of our condition"
   ]
  },
  {
   "cell_type": "code",
   "execution_count": 96,
   "id": "3599a756-0b56-4ec2-89ee-7462f94e9965",
   "metadata": {},
   "outputs": [
    {
     "data": {
      "text/plain": [
       "['hyd', 'blr']"
      ]
     },
     "execution_count": 96,
     "metadata": {},
     "output_type": "execute_result"
    }
   ],
   "source": [
    "list(filter(lambda i : len(i)<=3,list1))"
   ]
  },
  {
   "cell_type": "code",
   "execution_count": null,
   "id": "1ee15131-a939-4cbc-be11-8a051513c073",
   "metadata": {},
   "outputs": [],
   "source": []
  }
 ],
 "metadata": {
  "kernelspec": {
   "display_name": "Python 3 (ipykernel)",
   "language": "python",
   "name": "python3"
  },
  "language_info": {
   "codemirror_mode": {
    "name": "ipython",
    "version": 3
   },
   "file_extension": ".py",
   "mimetype": "text/x-python",
   "name": "python",
   "nbconvert_exporter": "python",
   "pygments_lexer": "ipython3",
   "version": "3.11.7"
  }
 },
 "nbformat": 4,
 "nbformat_minor": 5
}
