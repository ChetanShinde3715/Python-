{
 "cells": [
  {
   "cell_type": "markdown",
   "id": "25c6468c-6117-47c4-898c-81172fa3f5bd",
   "metadata": {},
   "source": [
    " # ** Dictionary**\n",
    " # - Dictionary is represent with curly braces\n",
    " # - list using square brackets\n",
    " <!-- - types using paranthes -->\n",
    " # - Dictionary is alway a pair key and value"
   ]
  },
  {
   "cell_type": "markdown",
   "id": "8977b006-baa7-4c8d-a099-04afff8735b8",
   "metadata": {},
   "source": [
    "**signature of list**\n",
    "\n",
    "iden = {key:value, key:value , key:value}"
   ]
  },
  {
   "cell_type": "code",
   "execution_count": 34,
   "id": "fca01b38-59dc-4848-910a-9ae816cea04a",
   "metadata": {},
   "outputs": [
    {
     "name": "stdout",
     "output_type": "stream",
     "text": [
      "{'manish': 36, 'Vishal': 32, 'Ram': 22, 'Rajesh': 54}\n"
     ]
    },
    {
     "data": {
      "text/plain": [
       "dict"
      ]
     },
     "execution_count": 34,
     "metadata": {},
     "output_type": "execute_result"
    }
   ],
   "source": [
    "# Example\n",
    "\n",
    "dict = {'manish':36,'Vishal':32,'Ram':22,'Rajesh':54}\n",
    "\n",
    "print(dict)\n",
    "type(dict)"
   ]
  },
  {
   "cell_type": "code",
   "execution_count": 2,
   "id": "65afa738-5bfb-4231-8a29-43716287cdef",
   "metadata": {},
   "outputs": [
    {
     "data": {
      "text/plain": [
       "{'Fruites': ['apple', 'cherry']}"
      ]
     },
     "execution_count": 2,
     "metadata": {},
     "output_type": "execute_result"
    }
   ],
   "source": [
    "d1 = {'Fruites':['apple','cherry']}\n",
    "d1"
   ]
  },
  {
   "cell_type": "markdown",
   "id": "97ac33e0-b010-4cd6-88b6-f030de44aa74",
   "metadata": {},
   "source": [
    "** Keys are important **\n",
    "- keys have only latest value\n",
    "- No duplicates \n",
    "- Key should be only one\n",
    "- Values can be duplicate\n",
    "- Which means different key can have same value\n",
    "- list can not be key \n",
    "- tuple can be a key.\n",
    "- we can access values only cooresponding keys"
   ]
  },
  {
   "cell_type": "code",
   "execution_count": 3,
   "id": "cd6a0e18-59b6-4333-bf16-a3e8924ed4f4",
   "metadata": {},
   "outputs": [
    {
     "name": "stdout",
     "output_type": "stream",
     "text": [
      "36\n"
     ]
    }
   ],
   "source": [
    "\n",
    "print(dict['manish'])"
   ]
  },
  {
   "cell_type": "code",
   "execution_count": 4,
   "id": "4014fe38-e0ec-4bba-975c-957e352f61fe",
   "metadata": {},
   "outputs": [
    {
     "name": "stdout",
     "output_type": "stream",
     "text": [
      "manish 36\n",
      "Vishal 32\n",
      "Ram 22\n"
     ]
    }
   ],
   "source": [
    "for i in dict:\n",
    "    print(i,dict[i]) # i is used for key and dict[i] is used for values \n",
    "    "
   ]
  },
  {
   "cell_type": "code",
   "execution_count": 5,
   "id": "32bbbe08-8951-47dc-a6ef-cd4da0dedfb9",
   "metadata": {},
   "outputs": [
    {
     "name": "stdout",
     "output_type": "stream",
     "text": [
      "manish age is 36\n",
      "Vishal age is 32\n",
      "Ram age is 22\n"
     ]
    }
   ],
   "source": [
    "for i in dict:\n",
    "    print(f\"{i} age is\",dict[i]) "
   ]
  },
  {
   "cell_type": "code",
   "execution_count": 6,
   "id": "40bb300b-3514-4df2-98ce-71ce7d74273c",
   "metadata": {},
   "outputs": [
    {
     "data": {
      "text/plain": [
       "'Apple'"
      ]
     },
     "execution_count": 6,
     "metadata": {},
     "output_type": "execute_result"
    }
   ],
   "source": [
    "d1 = { 'Fruites':['Apple']}\n",
    "d1['Fruites'][0]"
   ]
  },
  {
   "cell_type": "code",
   "execution_count": 7,
   "id": "6c43a39b-84ec-4d7c-85f2-4634ebc432c7",
   "metadata": {},
   "outputs": [
    {
     "data": {
      "text/plain": [
       "'kashmir'"
      ]
     },
     "execution_count": 7,
     "metadata": {},
     "output_type": "execute_result"
    }
   ],
   "source": [
    "d1 = { 'Fruites':{'Apple':['kashmir']}}\n",
    "\n",
    "len(d1)\n",
    "d1['Fruites']['Apple'][0]"
   ]
  },
  {
   "cell_type": "code",
   "execution_count": 8,
   "id": "e7de1c33-4da3-473e-af56-7260045021ee",
   "metadata": {},
   "outputs": [
    {
     "data": {
      "text/plain": [
       "{'Fruites': {'Apple': [{'kashmir': 'india'}, {'Hyd': 'TS'}]}}"
      ]
     },
     "execution_count": 8,
     "metadata": {},
     "output_type": "execute_result"
    }
   ],
   "source": [
    "d1={'Fruites':{\"Apple\":[\n",
    "                            {'kashmir':'india'},\n",
    "                            {'Hyd':'TS'}\n",
    "                        ]\n",
    "              }\n",
    "}\n",
    "\n",
    "d1"
   ]
  },
  {
   "cell_type": "code",
   "execution_count": 9,
   "id": "22f7d08d-372f-48c5-bb8f-d4171b1166b0",
   "metadata": {},
   "outputs": [
    {
     "data": {
      "text/plain": [
       "'india'"
      ]
     },
     "execution_count": 9,
     "metadata": {},
     "output_type": "execute_result"
    }
   ],
   "source": [
    "d1['Fruites']['Apple'][0]['kashmir']"
   ]
  },
  {
   "cell_type": "code",
   "execution_count": 10,
   "id": "2c70cc7e-75b2-4f34-9523-791eebedb69d",
   "metadata": {},
   "outputs": [
    {
     "data": {
      "text/plain": [
       "'TS'"
      ]
     },
     "execution_count": 10,
     "metadata": {},
     "output_type": "execute_result"
    }
   ],
   "source": [
    "d1['Fruites']['Apple'][1]['Hyd']"
   ]
  },
  {
   "cell_type": "code",
   "execution_count": 11,
   "id": "6e4264a9-dcb3-49a1-8a20-73099a9a4b4b",
   "metadata": {},
   "outputs": [
    {
     "data": {
      "text/plain": [
       "{'Fruites': {'Mango': {'Benganpalli': {'Nagpur market': {'MH': {'Shivaji': 'The Boss'}}}}}}"
      ]
     },
     "execution_count": 11,
     "metadata": {},
     "output_type": "execute_result"
    }
   ],
   "source": [
    "d1={'Fruites':{'Mango':{'Benganpalli':{'Nagpur market':{'MH':{'Shivaji':'The Boss'}}}}}}\n",
    "d1"
   ]
  },
  {
   "cell_type": "code",
   "execution_count": 12,
   "id": "8e0056f1-f633-4ba3-87fc-af60fe595808",
   "metadata": {},
   "outputs": [
    {
     "data": {
      "text/plain": [
       "'The Boss'"
      ]
     },
     "execution_count": 12,
     "metadata": {},
     "output_type": "execute_result"
    }
   ],
   "source": [
    "d1['Fruites']['Mango']['Benganpalli']['Nagpur market']['MH']['Shivaji']"
   ]
  },
  {
   "cell_type": "code",
   "execution_count": 13,
   "id": "bf97261e-e42a-4724-bd6d-53982b668701",
   "metadata": {},
   "outputs": [
    {
     "data": {
      "text/plain": [
       "1"
      ]
     },
     "execution_count": 13,
     "metadata": {},
     "output_type": "execute_result"
    }
   ],
   "source": [
    "len(d1)"
   ]
  },
  {
   "cell_type": "markdown",
   "id": "0cd56984-4995-4529-8787-e48b7f7d3880",
   "metadata": {},
   "source": [
    "** How to create empty dictionay **\n",
    "- How to make empty string\n"
   ]
  },
  {
   "cell_type": "code",
   "execution_count": 14,
   "id": "31b24a43-b457-44bb-b324-7ede384f7c82",
   "metadata": {},
   "outputs": [
    {
     "data": {
      "text/plain": [
       "['p', 'y', 't', 'h', 'o', 'n']"
      ]
     },
     "execution_count": 14,
     "metadata": {},
     "output_type": "execute_result"
    }
   ],
   "source": [
    "str1 = 'python'\n",
    "str2 = ''\n",
    "list=[]\n",
    "for i in str1:\n",
    "    str2 = str2+i\n",
    "    list.append(i)\n",
    "str2\n",
    "list\n"
   ]
  },
  {
   "cell_type": "code",
   "execution_count": 15,
   "id": "c0c50039-5d90-419e-b2e9-3f36a3cfb7c4",
   "metadata": {},
   "outputs": [
    {
     "data": {
      "text/plain": [
       "{'Ramesh': 50, 'Suresh': 45, 'Manish': 47}"
      ]
     },
     "execution_count": 15,
     "metadata": {},
     "output_type": "execute_result"
    }
   ],
   "source": [
    "d={}\n",
    "d['Ramesh']=50\n",
    "d['Suresh']=45\n",
    "d['Manish']=47\n",
    "d"
   ]
  },
  {
   "cell_type": "markdown",
   "id": "a04e86f0-bff1-45bb-9e20-39aaac6e6d29",
   "metadata": {},
   "source": [
    "How to convert string to list"
   ]
  },
  {
   "cell_type": "code",
   "execution_count": 16,
   "id": "721e4b66-cd73-4182-8e77-39c1a76b366e",
   "metadata": {},
   "outputs": [
    {
     "data": {
      "text/plain": [
       "['Hi', 'how', 'are', 'you?']"
      ]
     },
     "execution_count": 16,
     "metadata": {},
     "output_type": "execute_result"
    }
   ],
   "source": [
    "# split convert string to list\n",
    "str='Hi how are you?'\n",
    "l=str.split()\n",
    "l"
   ]
  },
  {
   "cell_type": "markdown",
   "id": "ba390669-c9f0-4cd8-bcb8-c6b77e395a2e",
   "metadata": {},
   "source": [
    "** Join converted list to string **"
   ]
  },
  {
   "cell_type": "code",
   "execution_count": 17,
   "id": "c0ab49e8-faaa-41a7-88e8-55c8266c7ea1",
   "metadata": {},
   "outputs": [
    {
     "data": {
      "text/plain": [
       "'Hi how are you?'"
      ]
     },
     "execution_count": 17,
     "metadata": {},
     "output_type": "execute_result"
    }
   ],
   "source": [
    "new_str=' '.join(l)\n",
    "new_str"
   ]
  },
  {
   "cell_type": "markdown",
   "id": "6980b86a-5f1e-4177-9a19-35db84a1e9d8",
   "metadata": {},
   "source": [
    "** We have two list to convert into dictionary **"
   ]
  },
  {
   "cell_type": "code",
   "execution_count": 18,
   "id": "7174f07e-0566-4531-83be-09a26ee48ae1",
   "metadata": {},
   "outputs": [
    {
     "data": {
      "text/plain": [
       "{'Ramesh': 23, 'Suresh': 45, 'Manish': 22}"
      ]
     },
     "execution_count": 18,
     "metadata": {},
     "output_type": "execute_result"
    }
   ],
   "source": [
    "name=['Ramesh','Suresh','Manish']\n",
    "age = [23,45,22]\n",
    "d={}\n",
    "for i,j in zip(name,age):\n",
    "    d[i]=j\n",
    "d"
   ]
  },
  {
   "cell_type": "code",
   "execution_count": 19,
   "id": "a870de9b-a11a-440d-8b77-d42e4f16cf03",
   "metadata": {},
   "outputs": [
    {
     "data": {
      "text/plain": [
       "{'Ramesh': 23,\n",
       " 'Suresh': 45,\n",
       " 'Manish': 22,\n",
       " 'Yash': 74,\n",
       " 'Rahul': 74,\n",
       " 'Satish': 33,\n",
       " 'Ram': 75}"
      ]
     },
     "execution_count": 19,
     "metadata": {},
     "output_type": "execute_result"
    }
   ],
   "source": [
    "name1=['Ramesh','Suresh','Manish','Yash','Rahul','Satish','Ram','Ritesh']\n",
    "age1 = [23,45,22,74,74,33,75]\n",
    "d1={}\n",
    "for i,j in zip(name1,age1):\n",
    "    d1[i]=j\n",
    "d1\n",
    "\n",
    "# If key doesn't have value then it will not print\n",
    "# And if value doesn't have key then it also not print\n"
   ]
  },
  {
   "cell_type": "code",
   "execution_count": 20,
   "id": "00fd556e-52d1-477e-8c37-c3f8da00833b",
   "metadata": {},
   "outputs": [
    {
     "data": {
      "text/plain": [
       "['__add__',\n",
       " '__class__',\n",
       " '__class_getitem__',\n",
       " '__contains__',\n",
       " '__delattr__',\n",
       " '__dir__',\n",
       " '__doc__',\n",
       " '__eq__',\n",
       " '__format__',\n",
       " '__ge__',\n",
       " '__getattribute__',\n",
       " '__getitem__',\n",
       " '__getnewargs__',\n",
       " '__getstate__',\n",
       " '__gt__',\n",
       " '__hash__',\n",
       " '__init__',\n",
       " '__init_subclass__',\n",
       " '__iter__',\n",
       " '__le__',\n",
       " '__len__',\n",
       " '__lt__',\n",
       " '__mul__',\n",
       " '__ne__',\n",
       " '__new__',\n",
       " '__reduce__',\n",
       " '__reduce_ex__',\n",
       " '__repr__',\n",
       " '__rmul__',\n",
       " '__setattr__',\n",
       " '__sizeof__',\n",
       " '__str__',\n",
       " '__subclasshook__',\n",
       " 'count',\n",
       " 'index']"
      ]
     },
     "execution_count": 20,
     "metadata": {},
     "output_type": "execute_result"
    }
   ],
   "source": [
    "dir('') #string\n",
    "dir ([]) # list\n",
    "dir({}) # dict\n",
    "dir((1,2,3,4)) # tuple"
   ]
  },
  {
   "cell_type": "markdown",
   "id": "e697cb33-6efe-4c19-86c5-ebbabac9f720",
   "metadata": {},
   "source": [
    "\n",
    "** items-keys-values **\n",
    "\n",
    "- items means both keys and values come together\n",
    "- keys means only dictionay keys\n",
    "- values means only dictionary values"
   ]
  },
  {
   "cell_type": "code",
   "execution_count": 21,
   "id": "8e420a22-633c-41ff-bc9a-36f65b77b7cc",
   "metadata": {},
   "outputs": [
    {
     "data": {
      "text/plain": [
       "dict_items([('manish', 36), ('Vishal', 32), ('Ram', 22)])"
      ]
     },
     "execution_count": 21,
     "metadata": {},
     "output_type": "execute_result"
    }
   ],
   "source": [
    "dict = {'manish':36,'Vishal':32,'Ram':22}\n",
    "it=dict.items()\n",
    "it"
   ]
  },
  {
   "cell_type": "code",
   "execution_count": 22,
   "id": "b53d8aca-3eb9-452f-bab0-044e4c84145c",
   "metadata": {},
   "outputs": [
    {
     "data": {
      "text/plain": [
       "dict_items"
      ]
     },
     "execution_count": 22,
     "metadata": {},
     "output_type": "execute_result"
    }
   ],
   "source": [
    "type(it)"
   ]
  },
  {
   "cell_type": "code",
   "execution_count": 23,
   "id": "8a80e22c-e0dc-433d-b4a6-30b2a107fb4e",
   "metadata": {},
   "outputs": [
    {
     "data": {
      "text/plain": [
       "dict_items([('manish', 36), ('Vishal', 32), ('Ram', 22)])"
      ]
     },
     "execution_count": 23,
     "metadata": {},
     "output_type": "execute_result"
    }
   ],
   "source": [
    "it=dict.items()\n",
    "it"
   ]
  },
  {
   "cell_type": "code",
   "execution_count": 24,
   "id": "6bd029e0-6aee-453b-b369-ea628af9a468",
   "metadata": {},
   "outputs": [
    {
     "data": {
      "text/plain": [
       "['abcdefghijklmnopqrstuvwxyz']"
      ]
     },
     "execution_count": 24,
     "metadata": {},
     "output_type": "execute_result"
    }
   ],
   "source": [
    "import string \n",
    "dir(string)\n",
    "string.ascii_lowercase\n",
    "\n",
    "low_list=[]\n",
    "low_list.append(string.ascii_lowercase)\n",
    "low_list\n"
   ]
  },
  {
   "cell_type": "code",
   "execution_count": 25,
   "id": "209c8682-3e41-42cf-876a-e30cddedff89",
   "metadata": {},
   "outputs": [],
   "source": [
    "# Q1) WAP to slove the following problem\n",
    "\n",
    "# step-1: create lowercase letters list using string package\n",
    "# step-2: create a digit list 1 to 26\n",
    "# step-3: create a dictionary {'a':1,'b':2,....'z':26}\n",
    "# step-4: enter a string hai\n",
    "# step-5: OUTPUT : 8-1-9"
   ]
  },
  {
   "cell_type": "code",
   "execution_count": 26,
   "id": "e08b697d-5831-420c-9a69-1f0a1887bcf4",
   "metadata": {},
   "outputs": [
    {
     "data": {
      "text/plain": [
       "['Formatter',\n",
       " 'Template',\n",
       " '_ChainMap',\n",
       " '__all__',\n",
       " '__builtins__',\n",
       " '__cached__',\n",
       " '__doc__',\n",
       " '__file__',\n",
       " '__loader__',\n",
       " '__name__',\n",
       " '__package__',\n",
       " '__spec__',\n",
       " '_re',\n",
       " '_sentinel_dict',\n",
       " '_string',\n",
       " 'ascii_letters',\n",
       " 'ascii_lowercase',\n",
       " 'ascii_uppercase',\n",
       " 'capwords',\n",
       " 'digits',\n",
       " 'hexdigits',\n",
       " 'octdigits',\n",
       " 'printable',\n",
       " 'punctuation',\n",
       " 'whitespace']"
      ]
     },
     "execution_count": 26,
     "metadata": {},
     "output_type": "execute_result"
    }
   ],
   "source": [
    "dir(string)"
   ]
  },
  {
   "cell_type": "code",
   "execution_count": 32,
   "id": "3a201ed4-7964-4f43-a5a0-a600d82b6ab2",
   "metadata": {},
   "outputs": [
    {
     "data": {
      "text/plain": [
       "[1,\n",
       " 2,\n",
       " 3,\n",
       " 4,\n",
       " 5,\n",
       " 6,\n",
       " 7,\n",
       " 8,\n",
       " 9,\n",
       " 10,\n",
       " 11,\n",
       " 12,\n",
       " 13,\n",
       " 14,\n",
       " 15,\n",
       " 16,\n",
       " 17,\n",
       " 18,\n",
       " 19,\n",
       " 20,\n",
       " 21,\n",
       " 22,\n",
       " 23,\n",
       " 24,\n",
       " 25,\n",
       " 26]"
      ]
     },
     "execution_count": 32,
     "metadata": {},
     "output_type": "execute_result"
    }
   ],
   "source": [
    "import string\n",
    "dir(string)\n",
    "#string.ascii_lowercase\n",
    "lower_list=[]\n",
    "digit=[]\n",
    "for i in string.ascii_lowercase:\n",
    "    lower_list.append(i)\n",
    "\n",
    "\n",
    "for i in range(1,27):\n",
    "    digit.append(i)\n",
    "\n",
    "digit\n",
    "\n",
    "    "
   ]
  },
  {
   "cell_type": "code",
   "execution_count": 31,
   "id": "65c1bf56-c6b4-46da-a3e4-c9e6a1b9ee9c",
   "metadata": {},
   "outputs": [
    {
     "data": {
      "text/plain": [
       "['a',\n",
       " 'b',\n",
       " 'c',\n",
       " 'd',\n",
       " 'e',\n",
       " 'f',\n",
       " 'g',\n",
       " 'h',\n",
       " 'i',\n",
       " 'j',\n",
       " 'k',\n",
       " 'l',\n",
       " 'm',\n",
       " 'n',\n",
       " 'o',\n",
       " 'p',\n",
       " 'q',\n",
       " 'r',\n",
       " 's',\n",
       " 't',\n",
       " 'u',\n",
       " 'v',\n",
       " 'w',\n",
       " 'x',\n",
       " 'y',\n",
       " 'z']"
      ]
     },
     "execution_count": 31,
     "metadata": {},
     "output_type": "execute_result"
    }
   ],
   "source": [
    "lower_list"
   ]
  },
  {
   "cell_type": "code",
   "execution_count": 29,
   "id": "b8aa12aa-47c9-4afd-8da0-9fdd25764c66",
   "metadata": {},
   "outputs": [
    {
     "data": {
      "text/plain": [
       "{'a': 1,\n",
       " 'b': 2,\n",
       " 'c': 3,\n",
       " 'd': 4,\n",
       " 'e': 5,\n",
       " 'f': 6,\n",
       " 'g': 7,\n",
       " 'h': 8,\n",
       " 'i': 9,\n",
       " 'j': 10,\n",
       " 'k': 11,\n",
       " 'l': 12,\n",
       " 'm': 13,\n",
       " 'n': 14,\n",
       " 'o': 15,\n",
       " 'p': 16,\n",
       " 'q': 17,\n",
       " 'r': 18,\n",
       " 's': 19,\n",
       " 't': 20,\n",
       " 'u': 21,\n",
       " 'v': 22,\n",
       " 'w': 23,\n",
       " 'x': 24,\n",
       " 'y': 25,\n",
       " 'z': 26}"
      ]
     },
     "execution_count": 29,
     "metadata": {},
     "output_type": "execute_result"
    }
   ],
   "source": [
    "dict={}\n",
    "for i,j in zip(lower_list,digit):\n",
    "    dict[i]=j\n",
    "dict\n"
   ]
  },
  {
   "cell_type": "code",
   "execution_count": 37,
   "id": "124046ca-866a-47d7-885b-28e73ceb82b4",
   "metadata": {},
   "outputs": [
    {
     "name": "stdout",
     "output_type": "stream",
     "text": [
      "Dict\n"
     ]
    }
   ],
   "source": [
    "print(\"Dict\")"
   ]
  },
  {
   "cell_type": "code",
   "execution_count": null,
   "id": "65e30eb2-f67b-434f-aa8f-1553a024e76e",
   "metadata": {},
   "outputs": [],
   "source": []
  }
 ],
 "metadata": {
  "kernelspec": {
   "display_name": "Python 3 (ipykernel)",
   "language": "python",
   "name": "python3"
  },
  "language_info": {
   "codemirror_mode": {
    "name": "ipython",
    "version": 3
   },
   "file_extension": ".py",
   "mimetype": "text/x-python",
   "name": "python",
   "nbconvert_exporter": "python",
   "pygments_lexer": "ipython3",
   "version": "3.11.7"
  }
 },
 "nbformat": 4,
 "nbformat_minor": 5
}
